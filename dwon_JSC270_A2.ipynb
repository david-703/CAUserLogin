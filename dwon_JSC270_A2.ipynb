{
  "nbformat": 4,
  "nbformat_minor": 0,
  "metadata": {
    "colab": {
      "provenance": [],
      "authorship_tag": "ABX9TyPOdP0mA2oBXC04zDQsfJW6",
      "include_colab_link": true
    },
    "kernelspec": {
      "name": "python3",
      "display_name": "Python 3"
    },
    "language_info": {
      "name": "python"
    }
  },
  "cells": [
    {
      "cell_type": "markdown",
      "metadata": {
        "id": "view-in-github",
        "colab_type": "text"
      },
      "source": [
        "<a href=\"https://colab.research.google.com/github/david-703/CAUserLogin/blob/main/dwon_JSC270_A2.ipynb\" target=\"_parent\"><img src=\"https://colab.research.google.com/assets/colab-badge.svg\" alt=\"Open In Colab\"/></a>"
      ]
    },
    {
      "cell_type": "code",
      "execution_count": 5,
      "metadata": {
        "id": "Kj-5lsOjmeaA"
      },
      "outputs": [],
      "source": [
        "{\n",
        "  \"nbformat\": 4,\n",
        "  \"nbformat_minor\": 0,\n",
        "  \"metadata\": {\n",
        "    \"colab\": {\n",
        "      \"name\": \"JSC270_Assignment2_starter_code.ipynb\",\n",
        "      \"provenance\": [],\n",
        "      \"collapsed_sections\": [],\n",
        "      \"include_colab_link\": true\n",
        "    },\n",
        "    \"kernelspec\": {\n",
        "      \"name\": \"python3\",\n",
        "      \"display_name\": \"Python 3\"\n",
        "    }\n",
        "  },\n",
        "  \"cells\": [\n",
        "    {\n",
        "      \"cell_type\": \"markdown\",\n",
        "      \"metadata\": {\n",
        "        \"id\": \"view-in-github\",\n",
        "        \"colab_type\": \"text\"\n",
        "      },\n",
        "      \"source\": [\n",
        "        \"<a href=\\\"https://colab.research.google.com/github/david-703/JSC270_HW2_2025_dwon/blob/main/dwon_JSC270_A2.ipynb\\\" target=\\\"_parent\\\"><img src=\\\"https://colab.research.google.com/assets/colab-badge.svg\\\" alt=\\\"Open In Colab\\\"/></a>\"\n",
        "\n",
        "      ]\n",
        "    },\n",
        "    {\n",
        "      \"cell_type\": \"markdown\",\n",
        "      \"metadata\": {\n",
        "        \"id\": \"Dx3JcBg8VZ-a\"\n",
        "      },\n",
        "      \"source\": [\n",
        "        \"###Libraries you'll likely need\"\n",
        "      ]\n",
        "    },\n",
        "    {\n",
        "      \"cell_type\": \"code\",\n",
        "      \"metadata\": {\n",
        "        \"id\": \"3I79uCwE3Sq8\"\n",
        "      },\n",
        "      \"source\": [\n",
        "        \"import pandas as pd\\n\",\n",
        "        \"import numpy as np\\n\",\n",
        "        \"import matplotlib.pyplot as plt\\n\",\n",
        "        \"import seaborn as sns\\n\",\n",
        "        \"from scipy import stats\\n\",\n",
        "        \"import statsmodels.api as sm\\n\",\n",
        "        \"import statsmodels.formula.api as smf\"\n",
        "      ],\n",
        "      \"execution_count\": null,\n",
        "      \"outputs\": []\n",
        "    },\n",
        "    {\n",
        "      \"cell_type\": \"markdown\",\n",
        "      \"metadata\": {\n",
        "        \"id\": \"X0oR7u9m-wO6\"\n",
        "      },\n",
        "      \"source\": [\n",
        "        \"###Importing data\"\n",
        "      ]\n",
        "    },\n",
        "    {\n",
        "      \"cell_type\": \"code\",\n",
        "      \"metadata\": {\n",
        "        \"id\": \"f3jscp2H3Yqm\"\n",
        "      },\n",
        "      \"source\": [\n",
        "        \"income94 = pd.read_csv('https://archive.ics.uci.edu/ml/machine-learning-databases/adult/adult.data', header=None)\\n\",\n",
        "        \"income94.columns = ['age','workclass', 'fnlwgt','education','education_num','marital_status','occupation',\\n\",\n",
        "        \"                    'relationship','race','sex','capital_gain','capital_loss','hours_per_week','native_country','gross_income_group']\"\n",
        "      ],\n",
        "      \"execution_count\": null,\n",
        "      \"outputs\": []\n",
        "    }\n",
        "  ]\n",
        "}"
      ]
    }
  ]
}